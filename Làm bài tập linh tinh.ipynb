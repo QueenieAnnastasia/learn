{
 "cells": [
  {
   "cell_type": "markdown",
   "id": "84ccd95b",
   "metadata": {},
   "source": [
    "Nhập (C)\n",
    "F = 1.8 * C + 32\n",
    "In(F)"
   ]
  },
  {
   "cell_type": "code",
   "execution_count": null,
   "id": "1d65e53a",
   "metadata": {},
   "outputs": [],
   "source": [
    "Nhập (N)\n",
    "N = ramdon 0-9\n",
    "Nhập (M)\n",
    "Nếu (N == M)\n",
    "    In(\"Đoán đúng\")\n",
    "Ngược lại\n",
    "    In(\"Đoán sai\")"
   ]
  }
 ],
 "metadata": {
  "kernelspec": {
   "display_name": "Python 3 (ipykernel)",
   "language": "python",
   "name": "python3"
  },
  "language_info": {
   "codemirror_mode": {
    "name": "ipython",
    "version": 3
   },
   "file_extension": ".py",
   "mimetype": "text/x-python",
   "name": "python",
   "nbconvert_exporter": "python",
   "pygments_lexer": "ipython3",
   "version": "3.9.12"
  }
 },
 "nbformat": 4,
 "nbformat_minor": 5
}
